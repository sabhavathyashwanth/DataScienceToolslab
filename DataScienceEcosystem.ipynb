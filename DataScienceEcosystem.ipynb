{
 "cells": [
  {
   "cell_type": "markdown",
   "id": "e278d0b0",
   "metadata": {},
   "source": [
    "# Data Science Tools and Ecosystem"
   ]
  },
  {
   "cell_type": "markdown",
   "id": "db865887",
   "metadata": {},
   "source": [
    "In this notebook, Data Science Tools and Ecosystem are summarised\n",
    "-Jupyter Nootbook\n",
    "-Python and R language introduction\n",
    "-Introduction to Jupyter nootbook environment"
   ]
  },
  {
   "cell_type": "markdown",
   "id": "9914f52d",
   "metadata": {},
   "source": [
    "Objectives:\n",
    "1.Jupyter Notebook\n",
    "2.JupyterLab\n",
    "3.Use cases of Markdown\n",
    "4.Jupyter kernel\n",
    "\n",
    "List popular languages for Data Science:\n",
    "-Python\n",
    "-R\n",
    "-SQL\n",
    "-Julia\n",
    "Libraries for Data Science\n",
    "*Pandas\n",
    "*Numpy\n",
    "*Matplotlib\n",
    "*Seaborn\n",
    "Roles in Data Science\n",
    "-Data Analyst\n",
    "-Data Engineer\n",
    "-Data Scientist"
   ]
  },
  {
   "cell_type": "markdown",
   "id": "d5f8d664",
   "metadata": {},
   "source": [
    "#Some of the popular languages that Data Scientists use are:\n",
    "1.Python\n",
    "2.R language\n",
    "3.SQL\n",
    "4.Julia\n",
    "5.Java"
   ]
  },
  {
   "cell_type": "markdown",
   "id": "662e7e09",
   "metadata": {},
   "source": [
    "#Some of the commonly used libraries used by Data Scientists include:\n",
    "1.Pandas\n",
    "2.Numpy\n",
    "3.Matplotlib\n",
    "4.Seaborn\n",
    "5.Tensorflow"
   ]
  },
  {
   "cell_type": "markdown",
   "id": "42cec3bf",
   "metadata": {},
   "source": [
    "|Data Science Tools|\n",
    "|------------------|\n",
    "|Tensorflow|\n",
    "|Apache Spark|\n",
    "|MySQL|"
   ]
  },
  {
   "cell_type": "markdown",
   "id": "9ecb84d6",
   "metadata": {},
   "source": [
    "### Below are a few examples of evaluating arithmetic expressions in Python.\n",
    "print(10+20)\n",
    "(a+b)\n",
    "(a-b)\n",
    "(a*b)\n",
    "(a/b)"
   ]
  },
  {
   "cell_type": "code",
   "execution_count": 19,
   "id": "d1c6e774",
   "metadata": {},
   "outputs": [
    {
     "name": "stdout",
     "output_type": "stream",
     "text": [
      "17\n"
     ]
    }
   ],
   "source": [
    "# This a simple arithmetic expression to mutiply then add integers\n",
    "print((3*4)+5)"
   ]
  },
  {
   "cell_type": "code",
   "execution_count": 20,
   "id": "1185279c",
   "metadata": {},
   "outputs": [
    {
     "name": "stdout",
     "output_type": "stream",
     "text": [
      "Hours:  3 : 20\n"
     ]
    }
   ],
   "source": [
    "# This will convert 200 minutes to hours by diving by 60\n",
    "min = 200\n",
    "print(\"Hours: \",int(min/60),\":\",min%60)"
   ]
  },
  {
   "cell_type": "code",
   "execution_count": null,
   "id": "c26bb8e9",
   "metadata": {},
   "outputs": [],
   "source": [
    "## Author\n",
    "Sabhavath Yashwanth"
   ]
  }
 ],
 "metadata": {
  "kernelspec": {
   "display_name": "Python 3 (ipykernel)",
   "language": "python",
   "name": "python3"
  },
  "language_info": {
   "codemirror_mode": {
    "name": "ipython",
    "version": 3
   },
   "file_extension": ".py",
   "mimetype": "text/x-python",
   "name": "python",
   "nbconvert_exporter": "python",
   "pygments_lexer": "ipython3",
   "version": "3.10.9"
  }
 },
 "nbformat": 4,
 "nbformat_minor": 5
}
